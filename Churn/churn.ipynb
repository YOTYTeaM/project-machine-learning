{
 "cells": [
  {
   "cell_type": "code",
   "id": "initial_id",
   "metadata": {
    "collapsed": true,
    "jupyter": {
     "outputs_hidden": true
    },
    "ExecuteTime": {
     "end_time": "2024-05-09T17:04:38.936672Z",
     "start_time": "2024-05-09T17:04:37.458706Z"
    }
   },
   "source": [
    "import pandas as pd\n",
    "\n",
    "database = pd.read_csv('churn.csv')\n",
    "print(database)\n",
    "print(database.shape)\n",
    "print(database.describe())"
   ],
   "outputs": [
    {
     "ename": "KeyboardInterrupt",
     "evalue": "",
     "output_type": "error",
     "traceback": [
      "\u001B[1;31m---------------------------------------------------------------------------\u001B[0m",
      "\u001B[1;31mKeyboardInterrupt\u001B[0m                         Traceback (most recent call last)",
      "Cell \u001B[1;32mIn[1], line 1\u001B[0m\n\u001B[1;32m----> 1\u001B[0m \u001B[38;5;28;01mimport\u001B[39;00m \u001B[38;5;21;01mpandas\u001B[39;00m \u001B[38;5;28;01mas\u001B[39;00m \u001B[38;5;21;01mpd\u001B[39;00m\n\u001B[0;32m      3\u001B[0m database \u001B[38;5;241m=\u001B[39m pd\u001B[38;5;241m.\u001B[39mread_csv(\u001B[38;5;124m'\u001B[39m\u001B[38;5;124mchurn.csv\u001B[39m\u001B[38;5;124m'\u001B[39m)\n\u001B[0;32m      4\u001B[0m \u001B[38;5;28mprint\u001B[39m(database)\n",
      "File \u001B[1;32m~\\AppData\\Local\\Programs\\Python\\Python311\\Lib\\site-packages\\pandas\\__init__.py:62\u001B[0m\n\u001B[0;32m     59\u001B[0m \u001B[38;5;66;03m# let init-time option registration happen\u001B[39;00m\n\u001B[0;32m     60\u001B[0m \u001B[38;5;28;01mimport\u001B[39;00m \u001B[38;5;21;01mpandas\u001B[39;00m\u001B[38;5;21;01m.\u001B[39;00m\u001B[38;5;21;01mcore\u001B[39;00m\u001B[38;5;21;01m.\u001B[39;00m\u001B[38;5;21;01mconfig_init\u001B[39;00m  \u001B[38;5;66;03m# pyright: ignore[reportUnusedImport] # noqa: F401\u001B[39;00m\n\u001B[1;32m---> 62\u001B[0m \u001B[38;5;28;01mfrom\u001B[39;00m \u001B[38;5;21;01mpandas\u001B[39;00m\u001B[38;5;21;01m.\u001B[39;00m\u001B[38;5;21;01mcore\u001B[39;00m\u001B[38;5;21;01m.\u001B[39;00m\u001B[38;5;21;01mapi\u001B[39;00m \u001B[38;5;28;01mimport\u001B[39;00m (\n\u001B[0;32m     63\u001B[0m     \u001B[38;5;66;03m# dtype\u001B[39;00m\n\u001B[0;32m     64\u001B[0m     ArrowDtype,\n\u001B[0;32m     65\u001B[0m     Int8Dtype,\n\u001B[0;32m     66\u001B[0m     Int16Dtype,\n\u001B[0;32m     67\u001B[0m     Int32Dtype,\n\u001B[0;32m     68\u001B[0m     Int64Dtype,\n\u001B[0;32m     69\u001B[0m     UInt8Dtype,\n\u001B[0;32m     70\u001B[0m     UInt16Dtype,\n\u001B[0;32m     71\u001B[0m     UInt32Dtype,\n\u001B[0;32m     72\u001B[0m     UInt64Dtype,\n\u001B[0;32m     73\u001B[0m     Float32Dtype,\n\u001B[0;32m     74\u001B[0m     Float64Dtype,\n\u001B[0;32m     75\u001B[0m     CategoricalDtype,\n\u001B[0;32m     76\u001B[0m     PeriodDtype,\n\u001B[0;32m     77\u001B[0m     IntervalDtype,\n\u001B[0;32m     78\u001B[0m     DatetimeTZDtype,\n\u001B[0;32m     79\u001B[0m     StringDtype,\n\u001B[0;32m     80\u001B[0m     BooleanDtype,\n\u001B[0;32m     81\u001B[0m     \u001B[38;5;66;03m# missing\u001B[39;00m\n\u001B[0;32m     82\u001B[0m     NA,\n\u001B[0;32m     83\u001B[0m     isna,\n\u001B[0;32m     84\u001B[0m     isnull,\n\u001B[0;32m     85\u001B[0m     notna,\n\u001B[0;32m     86\u001B[0m     notnull,\n\u001B[0;32m     87\u001B[0m     \u001B[38;5;66;03m# indexes\u001B[39;00m\n\u001B[0;32m     88\u001B[0m     Index,\n\u001B[0;32m     89\u001B[0m     CategoricalIndex,\n\u001B[0;32m     90\u001B[0m     RangeIndex,\n\u001B[0;32m     91\u001B[0m     MultiIndex,\n\u001B[0;32m     92\u001B[0m     IntervalIndex,\n\u001B[0;32m     93\u001B[0m     TimedeltaIndex,\n\u001B[0;32m     94\u001B[0m     DatetimeIndex,\n\u001B[0;32m     95\u001B[0m     PeriodIndex,\n\u001B[0;32m     96\u001B[0m     IndexSlice,\n\u001B[0;32m     97\u001B[0m     \u001B[38;5;66;03m# tseries\u001B[39;00m\n\u001B[0;32m     98\u001B[0m     NaT,\n\u001B[0;32m     99\u001B[0m     Period,\n\u001B[0;32m    100\u001B[0m     period_range,\n\u001B[0;32m    101\u001B[0m     Timedelta,\n\u001B[0;32m    102\u001B[0m     timedelta_range,\n\u001B[0;32m    103\u001B[0m     Timestamp,\n\u001B[0;32m    104\u001B[0m     date_range,\n\u001B[0;32m    105\u001B[0m     bdate_range,\n\u001B[0;32m    106\u001B[0m     Interval,\n\u001B[0;32m    107\u001B[0m     interval_range,\n\u001B[0;32m    108\u001B[0m     DateOffset,\n\u001B[0;32m    109\u001B[0m     \u001B[38;5;66;03m# conversion\u001B[39;00m\n\u001B[0;32m    110\u001B[0m     to_numeric,\n\u001B[0;32m    111\u001B[0m     to_datetime,\n\u001B[0;32m    112\u001B[0m     to_timedelta,\n\u001B[0;32m    113\u001B[0m     \u001B[38;5;66;03m# misc\u001B[39;00m\n\u001B[0;32m    114\u001B[0m     Flags,\n\u001B[0;32m    115\u001B[0m     Grouper,\n\u001B[0;32m    116\u001B[0m     factorize,\n\u001B[0;32m    117\u001B[0m     unique,\n\u001B[0;32m    118\u001B[0m     value_counts,\n\u001B[0;32m    119\u001B[0m     NamedAgg,\n\u001B[0;32m    120\u001B[0m     array,\n\u001B[0;32m    121\u001B[0m     Categorical,\n\u001B[0;32m    122\u001B[0m     set_eng_float_format,\n\u001B[0;32m    123\u001B[0m     Series,\n\u001B[0;32m    124\u001B[0m     DataFrame,\n\u001B[0;32m    125\u001B[0m )\n\u001B[0;32m    127\u001B[0m \u001B[38;5;28;01mfrom\u001B[39;00m \u001B[38;5;21;01mpandas\u001B[39;00m\u001B[38;5;21;01m.\u001B[39;00m\u001B[38;5;21;01mcore\u001B[39;00m\u001B[38;5;21;01m.\u001B[39;00m\u001B[38;5;21;01mdtypes\u001B[39;00m\u001B[38;5;21;01m.\u001B[39;00m\u001B[38;5;21;01mdtypes\u001B[39;00m \u001B[38;5;28;01mimport\u001B[39;00m SparseDtype\n\u001B[0;32m    129\u001B[0m \u001B[38;5;28;01mfrom\u001B[39;00m \u001B[38;5;21;01mpandas\u001B[39;00m\u001B[38;5;21;01m.\u001B[39;00m\u001B[38;5;21;01mtseries\u001B[39;00m\u001B[38;5;21;01m.\u001B[39;00m\u001B[38;5;21;01mapi\u001B[39;00m \u001B[38;5;28;01mimport\u001B[39;00m infer_freq\n",
      "File \u001B[1;32m~\\AppData\\Local\\Programs\\Python\\Python311\\Lib\\site-packages\\pandas\\core\\api.py:1\u001B[0m\n\u001B[1;32m----> 1\u001B[0m \u001B[38;5;28;01mfrom\u001B[39;00m \u001B[38;5;21;01mpandas\u001B[39;00m\u001B[38;5;21;01m.\u001B[39;00m\u001B[38;5;21;01m_libs\u001B[39;00m \u001B[38;5;28;01mimport\u001B[39;00m (\n\u001B[0;32m      2\u001B[0m     NaT,\n\u001B[0;32m      3\u001B[0m     Period,\n\u001B[0;32m      4\u001B[0m     Timedelta,\n\u001B[0;32m      5\u001B[0m     Timestamp,\n\u001B[0;32m      6\u001B[0m )\n\u001B[0;32m      7\u001B[0m \u001B[38;5;28;01mfrom\u001B[39;00m \u001B[38;5;21;01mpandas\u001B[39;00m\u001B[38;5;21;01m.\u001B[39;00m\u001B[38;5;21;01m_libs\u001B[39;00m\u001B[38;5;21;01m.\u001B[39;00m\u001B[38;5;21;01mmissing\u001B[39;00m \u001B[38;5;28;01mimport\u001B[39;00m NA\n\u001B[0;32m      9\u001B[0m \u001B[38;5;28;01mfrom\u001B[39;00m \u001B[38;5;21;01mpandas\u001B[39;00m\u001B[38;5;21;01m.\u001B[39;00m\u001B[38;5;21;01mcore\u001B[39;00m\u001B[38;5;21;01m.\u001B[39;00m\u001B[38;5;21;01mdtypes\u001B[39;00m\u001B[38;5;21;01m.\u001B[39;00m\u001B[38;5;21;01mdtypes\u001B[39;00m \u001B[38;5;28;01mimport\u001B[39;00m (\n\u001B[0;32m     10\u001B[0m     ArrowDtype,\n\u001B[0;32m     11\u001B[0m     CategoricalDtype,\n\u001B[1;32m   (...)\u001B[0m\n\u001B[0;32m     14\u001B[0m     PeriodDtype,\n\u001B[0;32m     15\u001B[0m )\n",
      "File \u001B[1;32m~\\AppData\\Local\\Programs\\Python\\Python311\\Lib\\site-packages\\pandas\\_libs\\__init__.py:18\u001B[0m\n\u001B[0;32m     16\u001B[0m \u001B[38;5;28;01mimport\u001B[39;00m \u001B[38;5;21;01mpandas\u001B[39;00m\u001B[38;5;21;01m.\u001B[39;00m\u001B[38;5;21;01m_libs\u001B[39;00m\u001B[38;5;21;01m.\u001B[39;00m\u001B[38;5;21;01mpandas_parser\u001B[39;00m  \u001B[38;5;66;03m# isort: skip # type: ignore[reportUnusedImport]\u001B[39;00m\n\u001B[0;32m     17\u001B[0m \u001B[38;5;28;01mimport\u001B[39;00m \u001B[38;5;21;01mpandas\u001B[39;00m\u001B[38;5;21;01m.\u001B[39;00m\u001B[38;5;21;01m_libs\u001B[39;00m\u001B[38;5;21;01m.\u001B[39;00m\u001B[38;5;21;01mpandas_datetime\u001B[39;00m  \u001B[38;5;66;03m# noqa: F401 # isort: skip # type: ignore[reportUnusedImport]\u001B[39;00m\n\u001B[1;32m---> 18\u001B[0m \u001B[38;5;28;01mfrom\u001B[39;00m \u001B[38;5;21;01mpandas\u001B[39;00m\u001B[38;5;21;01m.\u001B[39;00m\u001B[38;5;21;01m_libs\u001B[39;00m\u001B[38;5;21;01m.\u001B[39;00m\u001B[38;5;21;01minterval\u001B[39;00m \u001B[38;5;28;01mimport\u001B[39;00m Interval\n\u001B[0;32m     19\u001B[0m \u001B[38;5;28;01mfrom\u001B[39;00m \u001B[38;5;21;01mpandas\u001B[39;00m\u001B[38;5;21;01m.\u001B[39;00m\u001B[38;5;21;01m_libs\u001B[39;00m\u001B[38;5;21;01m.\u001B[39;00m\u001B[38;5;21;01mtslibs\u001B[39;00m \u001B[38;5;28;01mimport\u001B[39;00m (\n\u001B[0;32m     20\u001B[0m     NaT,\n\u001B[0;32m     21\u001B[0m     NaTType,\n\u001B[1;32m   (...)\u001B[0m\n\u001B[0;32m     26\u001B[0m     iNaT,\n\u001B[0;32m     27\u001B[0m )\n",
      "File \u001B[1;32m<frozen importlib._bootstrap>:405\u001B[0m, in \u001B[0;36mparent\u001B[1;34m(self)\u001B[0m\n",
      "\u001B[1;31mKeyboardInterrupt\u001B[0m: "
     ]
    }
   ],
   "execution_count": 1
  },
  {
   "cell_type": "code",
   "id": "5a19fab3a69ec07c",
   "metadata": {
    "collapsed": false,
    "jupyter": {
     "outputs_hidden": false
    },
    "ExecuteTime": {
     "end_time": "2024-05-09T17:04:38.940588Z",
     "start_time": "2024-05-09T17:04:38.940588Z"
    }
   },
   "source": [
    "print(database.isnull().sum())"
   ],
   "outputs": [],
   "execution_count": null
  },
  {
   "cell_type": "code",
   "id": "3cee0665bddfa964",
   "metadata": {
    "collapsed": false,
    "jupyter": {
     "outputs_hidden": false
    },
    "ExecuteTime": {
     "end_time": "2024-05-09T17:04:38.942543Z",
     "start_time": "2024-05-09T17:04:38.942543Z"
    }
   },
   "source": [
    "print(database.duplicated().sum())"
   ],
   "outputs": [],
   "execution_count": null
  },
  {
   "cell_type": "code",
   "id": "b25b6c799dfc0b39",
   "metadata": {
    "collapsed": false,
    "jupyter": {
     "outputs_hidden": false
    }
   },
   "source": [
    "database.drop(\n",
    "    ['RowNumber', 'CustomerId', 'Surname'],\n",
    "    axis=1,\n",
    "    inplace=True\n",
    ")"
   ],
   "outputs": [],
   "execution_count": null
  },
  {
   "cell_type": "code",
   "id": "bdf9f22142a0bc9a",
   "metadata": {
    "collapsed": false,
    "jupyter": {
     "outputs_hidden": false
    }
   },
   "source": [
    "data = database.values"
   ],
   "outputs": [],
   "execution_count": null
  },
  {
   "cell_type": "code",
   "id": "39dea2c4cd54bff4",
   "metadata": {
    "collapsed": false,
    "jupyter": {
     "outputs_hidden": false
    }
   },
   "source": [
    "x, y = data[:,:-1], data[:,-1]"
   ],
   "outputs": [],
   "execution_count": null
  },
  {
   "cell_type": "code",
   "id": "85a94c8b631edb62",
   "metadata": {
    "collapsed": false,
    "jupyter": {
     "outputs_hidden": false
    }
   },
   "source": [
    "print(x[0])"
   ],
   "outputs": [],
   "execution_count": null
  },
  {
   "cell_type": "code",
   "id": "9cc1c91454f2956b",
   "metadata": {
    "collapsed": false,
    "jupyter": {
     "outputs_hidden": false
    }
   },
   "source": [
    "from sklearn.preprocessing import LabelEncoder\n",
    "\n",
    "x[:, 1] = LabelEncoder().fit_transform(x[:, 1])\n",
    "\n",
    "x[:, 2] = LabelEncoder().fit_transform(x[:, 2])\n",
    "\n",
    "y = LabelEncoder().fit_transform(y.astype(str))"
   ],
   "outputs": [],
   "execution_count": null
  },
  {
   "cell_type": "code",
   "id": "bb6d68d2e0277ed1",
   "metadata": {
    "collapsed": false,
    "jupyter": {
     "outputs_hidden": false
    }
   },
   "source": [
    "# from matplotlib import pyplot\n",
    "# \n",
    "# fig = database.hist(xlabelsize=5, ylabelsize=5)\n",
    "# [i.title.set_size(4) for i in fig.ravel()]\n",
    "# pyplot.show()"
   ],
   "outputs": [],
   "execution_count": null
  },
  {
   "cell_type": "code",
   "id": "3d1188e7fd39a66f",
   "metadata": {
    "collapsed": false,
    "jupyter": {
     "outputs_hidden": false
    }
   },
   "source": [
    "from sklearn.model_selection import train_test_split\n",
    "\n",
    "x_train, x_test, y_train, y_test = train_test_split(x, y, test_size=0.2, random_state=7)"
   ],
   "outputs": [],
   "execution_count": null
  },
  {
   "cell_type": "code",
   "id": "2983cc6f529fa644",
   "metadata": {
    "collapsed": false,
    "jupyter": {
     "outputs_hidden": false
    }
   },
   "source": [
    "# from sklearn.preprocessing import RobustScaler\n",
    "# r = RobustScaler()\n",
    "# print(r.fit_transform(x_train))"
   ],
   "outputs": [],
   "execution_count": null
  },
  {
   "cell_type": "code",
   "id": "db2d734b04821b64",
   "metadata": {
    "collapsed": false,
    "jupyter": {
     "outputs_hidden": false
    }
   },
   "source": [
    "# from sklearn.neighbors import LocalOutlierFactor\n",
    "# from sklearn.preprocessing import MinMaxScaler\n",
    "# \n",
    "# lof = LocalOutlierFactor()\n",
    "# mask = lof.fit_predict(MinMaxScaler().fit_transform(x_train))\n",
    "# print(sum(mask == -1))\n",
    "# mask = mask == 1\n",
    "# \n",
    "# x_train = x_train[mask]\n",
    "# y_train = y_train[mask]\n"
   ],
   "outputs": [],
   "execution_count": null
  },
  {
   "cell_type": "code",
   "id": "2db7a55e5274e0e1",
   "metadata": {
    "collapsed": false,
    "jupyter": {
     "outputs_hidden": false
    }
   },
   "source": [
    "from sklearn.preprocessing import StandardScaler, MinMaxScaler, PowerTransformer, RobustScaler\n",
    "from sklearn.pipeline import Pipeline\n",
    "from sklearn.model_selection import GridSearchCV, RepeatedStratifiedKFold\n",
    "\n",
    "from sklearn.tree import DecisionTreeClassifier\n",
    "\n",
    "standard_scaler = StandardScaler()\n",
    "min_max_scaler = MinMaxScaler()\n",
    "power_transform = PowerTransformer()\n",
    "robust_scaler = RobustScaler()\n",
    "model = DecisionTreeClassifier(random_state=7)\n",
    "\n",
    "pipline = Pipeline(\n",
    "    steps=[\n",
    "        # ('power', power_transform),\n",
    "        ('robust', robust_scaler),\n",
    "        # ('minmax', min_max_scaler),\n",
    "        # ('standard', standard_scaler),\n",
    "        ('model', model)\n",
    "    ]\n",
    ")\n",
    "\n",
    "# cv = RepeatedStratifiedKFold(random_state=7, n_repeats=3)\n",
    "\n",
    "grid_params = {\n",
    "    # 'power__method': ['yeo-johnson', 'box-cox'],\n",
    "    'model__max_depth': [2,4,6,8,10,12,14,16,18,20],\n",
    "    'model__min_samples_leaf': [1,2,3,4,5,6,7,8,9,10],\n",
    "    'model__criterion': ['gini', 'entropy'],\n",
    "    'model__random_state': [0,7, 15, 36, 47]\n",
    "}\n",
    "\n",
    "grid_search = GridSearchCV(\n",
    "    pipline,\n",
    "    grid_params,\n",
    "    cv=5,\n",
    "    n_jobs=30\n",
    ")\n",
    "\n",
    "grid_search.fit(x_train, y_train)\n",
    "\n",
    "print(\n",
    "    f\"Best Params: {grid_search.best_params_}\\n\",\n",
    "    grid_search.best_estimator_,\n",
    "    f\"\\nbest Score: {grid_search.score(x_test, y_test)}\"\n",
    ")"
   ],
   "outputs": [],
   "execution_count": null
  },
  {
   "cell_type": "code",
   "id": "c467a9379059a7b4",
   "metadata": {
    "collapsed": false,
    "jupyter": {
     "outputs_hidden": false
    }
   },
   "source": [
    "from sklearn.preprocessing import StandardScaler, MinMaxScaler, PowerTransformer, RobustScaler\n",
    "from sklearn.pipeline import Pipeline\n",
    "from sklearn.model_selection import GridSearchCV, RepeatedStratifiedKFold\n",
    "\n",
    "from sklearn.neighbors import KNeighborsClassifier\n",
    "\n",
    "standard_scaler = StandardScaler()\n",
    "min_max_scaler = MinMaxScaler()\n",
    "power_transform = PowerTransformer()\n",
    "robust_scaler = RobustScaler()\n",
    "model = KNeighborsClassifier()\n",
    "\n",
    "pipline = Pipeline(\n",
    "    steps=[\n",
    "        # ('power', power_transform),\n",
    "        ('robust', robust_scaler),\n",
    "        # ('minmax', min_max_scaler),\n",
    "        # ('standard', standard_scaler),\n",
    "        ('model', model)\n",
    "    ]\n",
    ")\n",
    "\n",
    "cv = RepeatedStratifiedKFold(random_state=7, n_repeats=3)\n",
    "\n",
    "grid_params = {\n",
    "    # 'power__method': ['yeo-johnson', 'box-cox'],\n",
    "    \"model__n_neighbors\": [5, 6, 7, 8, 9, 10, 11, 12, 13, 14, 15, 16, 17],\n",
    "    'model__metric': ['minkowski', 'manhattan'],\n",
    "    \"model__weights\": [\"uniform\", \"distance\"],\n",
    "    \"model__p\": [1, 2, 3],\n",
    "}\n",
    "\n",
    "grid_search = GridSearchCV(\n",
    "    pipline,\n",
    "    grid_params,\n",
    "    cv=cv,\n",
    "    n_jobs=30\n",
    ")\n",
    "\n",
    "grid_search.fit(x_train, y_train)\n",
    "\n",
    "print(\n",
    "    f\"Best Params: {grid_search.best_params_}\\n\",\n",
    "    grid_search.best_estimator_,\n",
    "    f\"\\nbest Score: {grid_search.score(x_test, y_test)}\"\n",
    ")"
   ],
   "outputs": [],
   "execution_count": null
  },
  {
   "cell_type": "code",
   "id": "ce0c7841c5063f97",
   "metadata": {
    "collapsed": false,
    "jupyter": {
     "outputs_hidden": false
    }
   },
   "source": [
    "from sklearn.preprocessing import StandardScaler, MinMaxScaler, PowerTransformer, RobustScaler\n",
    "from sklearn.pipeline import Pipeline\n",
    "from sklearn.model_selection import GridSearchCV, RepeatedStratifiedKFold\n",
    "\n",
    "from sklearn.ensemble import RandomForestClassifier\n",
    "\n",
    "standard_scaler = StandardScaler()\n",
    "min_max_scaler = MinMaxScaler()\n",
    "power_transform = PowerTransformer()\n",
    "robust_scaler = RobustScaler()\n",
    "model = RandomForestClassifier()\n",
    "\n",
    "pipline = Pipeline(\n",
    "    steps=[\n",
    "        # ('power', power_transform),\n",
    "        ('robust', robust_scaler),\n",
    "        # ('minmax', min_max_scaler),\n",
    "        # ('standard', standard_scaler),\n",
    "        ('model', model)\n",
    "    ]\n",
    ")\n",
    "\n",
    "# cv = RepeatedStratifiedKFold(random_state=7, n_repeats=3)\n",
    "\n",
    "grid_params = {\n",
    "    # 'power__method': ['yeo-johnson', 'box-cox'],\n",
    "    'model__max_depth': [2,4,6,8,10,12,14,16,18,20],\n",
    "    'model__min_samples_leaf': [1,2,3,4,5,6,7,8,9,10],\n",
    "    'model__criterion': ['gini', 'entropy'],\n",
    "    'model__random_state': [7 , 42]\n",
    "}\n",
    "\n",
    "grid_search = GridSearchCV(\n",
    "    pipline,\n",
    "    grid_params,\n",
    "    cv=5,\n",
    "    n_jobs=30\n",
    ")\n",
    "\n",
    "grid_search.fit(x_train, y_train)\n",
    "\n",
    "print(\n",
    "    f\"Best Params: {grid_search.best_params_}\\n\",\n",
    "    grid_search.best_estimator_,\n",
    "    f\"\\nbest Score: {grid_search.score(x_test, y_test)}\"\n",
    ")"
   ],
   "outputs": [],
   "execution_count": null
  },
  {
   "cell_type": "code",
   "id": "170915578974c57e",
   "metadata": {
    "collapsed": false,
    "jupyter": {
     "outputs_hidden": false
    }
   },
   "source": [
    "from sklearn.preprocessing import StandardScaler, MinMaxScaler, PowerTransformer, RobustScaler, Binarizer\n",
    "from sklearn.pipeline import Pipeline\n",
    "from sklearn.model_selection import GridSearchCV, RepeatedStratifiedKFold\n",
    "from sklearn.compose import ColumnTransformer\n",
    "\n",
    "from sklearn.ensemble import RandomForestClassifier\n",
    "\n",
    "standard_scaler = StandardScaler()\n",
    "min_max_scaler = MinMaxScaler()\n",
    "power_transform = PowerTransformer()\n",
    "robust_scaler = RobustScaler()\n",
    "column_transformer = ColumnTransformer(\n",
    "    [\n",
    "        (\"standard\", standard_scaler, [0,1,2,3,4,6,]),\n",
    "        (\"robust\", robust_scaler, [5,9]),\n",
    "        (\"binarizer\", Binarizer(), [7, 8])\n",
    "    ]\n",
    ")\n",
    "model = RandomForestClassifier()\n",
    "\n",
    "pipline = Pipeline(\n",
    "    steps=[\n",
    "        # ('power', power_transform),\n",
    "        # ('robust', robust_scaler),\n",
    "        # ('minmax', min_max_scaler),\n",
    "        # ('standard', standard_scaler),\n",
    "        ('columnt', column_transformer),\n",
    "        ('model', model)\n",
    "    ]\n",
    ")\n",
    "\n",
    "# cv = RepeatedStratifiedKFold(random_state=7, n_repeats=3)\n",
    "\n",
    "grid_params = {\n",
    "    # 'power__method': ['yeo-johnson', 'box-cox'],\n",
    "    'model__max_depth': [2,4,6,8,10,12,14,16,18,20],\n",
    "    'model__min_samples_leaf': [1,2,3,4,5,6,7,8,9,10],\n",
    "    'model__criterion': ['gini', 'entropy'],\n",
    "    'model__random_state': [7 , 42]\n",
    "}\n",
    "\n",
    "grid_search = GridSearchCV(\n",
    "    pipline,\n",
    "    grid_params,\n",
    "    cv=5,\n",
    "    n_jobs=30\n",
    ")\n",
    "\n",
    "grid_search.fit(x_train, y_train)\n",
    "\n",
    "print(\n",
    "    f\"Best Params: {grid_search.best_params_}\\n\",\n",
    "    grid_search.best_estimator_,\n",
    "    f\"\\nbest Score: {grid_search.score(x_test, y_test)}\"\n",
    ")"
   ],
   "outputs": [],
   "execution_count": null
  }
 ],
 "metadata": {
  "kernelspec": {
   "display_name": "Python 3 (ipykernel)",
   "language": "python",
   "name": "python3"
  },
  "language_info": {
   "codemirror_mode": {
    "name": "ipython",
    "version": 3
   },
   "file_extension": ".py",
   "mimetype": "text/x-python",
   "name": "python",
   "nbconvert_exporter": "python",
   "pygments_lexer": "ipython3",
   "version": "3.8.2"
  }
 },
 "nbformat": 4,
 "nbformat_minor": 5
}
