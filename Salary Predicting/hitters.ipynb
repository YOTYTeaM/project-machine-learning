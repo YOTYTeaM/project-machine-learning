{
 "cells": [
  {
   "cell_type": "code",
   "id": "initial_id",
   "metadata": {
    "collapsed": true,
    "ExecuteTime": {
     "end_time": "2024-05-09T20:23:36.495227Z",
     "start_time": "2024-05-09T20:23:35.376075Z"
    }
   },
   "source": [
    "import numpy as np\n",
    "import pandas as pd\n",
    "\n",
    "dataset = pd.read_csv('hitters.csv')\n",
    "dataset"
   ],
   "outputs": [
    {
     "data": {
      "text/plain": [
       "     AtBat  Hits  HmRun  Runs  RBI  Walks  Years  CAtBat  CHits  CHmRun  \\\n",
       "0      293    66      1    30   29     14      1     293     66       1   \n",
       "1      315    81      7    24   38     39     14    3449    835      69   \n",
       "2      479   130     18    66   72     76      3    1624    457      63   \n",
       "3      496   141     20    65   78     37     11    5628   1575     225   \n",
       "4      321    87     10    39   42     30      2     396    101      12   \n",
       "..     ...   ...    ...   ...  ...    ...    ...     ...    ...     ...   \n",
       "317    497   127      7    65   48     37      5    2703    806      32   \n",
       "318    492   136      5    76   50     94     12    5511   1511      39   \n",
       "319    475   126      3    61   43     52      6    1700    433       7   \n",
       "320    573   144      9    85   60     78      8    3198    857      97   \n",
       "321    631   170      9    77   44     31     11    4908   1457      30   \n",
       "\n",
       "     CRuns  CRBI  CWalks League Division  PutOuts  Assists  Errors  Salary  \\\n",
       "0       30    29      14      A        E      446       33      20     NaN   \n",
       "1      321   414     375      N        W      632       43      10   475.0   \n",
       "2      224   266     263      A        W      880       82      14   480.0   \n",
       "3      828   838     354      N        E      200       11       3   500.0   \n",
       "4       48    46      33      N        E      805       40       4    91.5   \n",
       "..     ...   ...     ...    ...      ...      ...      ...     ...     ...   \n",
       "317    379   311     138      N        E      325        9       3   700.0   \n",
       "318    897   451     875      A        E      313      381      20   875.0   \n",
       "319    217    93     146      A        W       37      113       7   385.0   \n",
       "320    470   420     332      A        E     1314      131      12   960.0   \n",
       "321    775   357     249      A        W      408        4       3  1000.0   \n",
       "\n",
       "    NewLeague  \n",
       "0           A  \n",
       "1           N  \n",
       "2           A  \n",
       "3           N  \n",
       "4           N  \n",
       "..        ...  \n",
       "317         N  \n",
       "318         A  \n",
       "319         A  \n",
       "320         A  \n",
       "321         A  \n",
       "\n",
       "[322 rows x 20 columns]"
      ],
      "text/html": [
       "<div>\n",
       "<style scoped>\n",
       "    .dataframe tbody tr th:only-of-type {\n",
       "        vertical-align: middle;\n",
       "    }\n",
       "\n",
       "    .dataframe tbody tr th {\n",
       "        vertical-align: top;\n",
       "    }\n",
       "\n",
       "    .dataframe thead th {\n",
       "        text-align: right;\n",
       "    }\n",
       "</style>\n",
       "<table border=\"1\" class=\"dataframe\">\n",
       "  <thead>\n",
       "    <tr style=\"text-align: right;\">\n",
       "      <th></th>\n",
       "      <th>AtBat</th>\n",
       "      <th>Hits</th>\n",
       "      <th>HmRun</th>\n",
       "      <th>Runs</th>\n",
       "      <th>RBI</th>\n",
       "      <th>Walks</th>\n",
       "      <th>Years</th>\n",
       "      <th>CAtBat</th>\n",
       "      <th>CHits</th>\n",
       "      <th>CHmRun</th>\n",
       "      <th>CRuns</th>\n",
       "      <th>CRBI</th>\n",
       "      <th>CWalks</th>\n",
       "      <th>League</th>\n",
       "      <th>Division</th>\n",
       "      <th>PutOuts</th>\n",
       "      <th>Assists</th>\n",
       "      <th>Errors</th>\n",
       "      <th>Salary</th>\n",
       "      <th>NewLeague</th>\n",
       "    </tr>\n",
       "  </thead>\n",
       "  <tbody>\n",
       "    <tr>\n",
       "      <th>0</th>\n",
       "      <td>293</td>\n",
       "      <td>66</td>\n",
       "      <td>1</td>\n",
       "      <td>30</td>\n",
       "      <td>29</td>\n",
       "      <td>14</td>\n",
       "      <td>1</td>\n",
       "      <td>293</td>\n",
       "      <td>66</td>\n",
       "      <td>1</td>\n",
       "      <td>30</td>\n",
       "      <td>29</td>\n",
       "      <td>14</td>\n",
       "      <td>A</td>\n",
       "      <td>E</td>\n",
       "      <td>446</td>\n",
       "      <td>33</td>\n",
       "      <td>20</td>\n",
       "      <td>NaN</td>\n",
       "      <td>A</td>\n",
       "    </tr>\n",
       "    <tr>\n",
       "      <th>1</th>\n",
       "      <td>315</td>\n",
       "      <td>81</td>\n",
       "      <td>7</td>\n",
       "      <td>24</td>\n",
       "      <td>38</td>\n",
       "      <td>39</td>\n",
       "      <td>14</td>\n",
       "      <td>3449</td>\n",
       "      <td>835</td>\n",
       "      <td>69</td>\n",
       "      <td>321</td>\n",
       "      <td>414</td>\n",
       "      <td>375</td>\n",
       "      <td>N</td>\n",
       "      <td>W</td>\n",
       "      <td>632</td>\n",
       "      <td>43</td>\n",
       "      <td>10</td>\n",
       "      <td>475.0</td>\n",
       "      <td>N</td>\n",
       "    </tr>\n",
       "    <tr>\n",
       "      <th>2</th>\n",
       "      <td>479</td>\n",
       "      <td>130</td>\n",
       "      <td>18</td>\n",
       "      <td>66</td>\n",
       "      <td>72</td>\n",
       "      <td>76</td>\n",
       "      <td>3</td>\n",
       "      <td>1624</td>\n",
       "      <td>457</td>\n",
       "      <td>63</td>\n",
       "      <td>224</td>\n",
       "      <td>266</td>\n",
       "      <td>263</td>\n",
       "      <td>A</td>\n",
       "      <td>W</td>\n",
       "      <td>880</td>\n",
       "      <td>82</td>\n",
       "      <td>14</td>\n",
       "      <td>480.0</td>\n",
       "      <td>A</td>\n",
       "    </tr>\n",
       "    <tr>\n",
       "      <th>3</th>\n",
       "      <td>496</td>\n",
       "      <td>141</td>\n",
       "      <td>20</td>\n",
       "      <td>65</td>\n",
       "      <td>78</td>\n",
       "      <td>37</td>\n",
       "      <td>11</td>\n",
       "      <td>5628</td>\n",
       "      <td>1575</td>\n",
       "      <td>225</td>\n",
       "      <td>828</td>\n",
       "      <td>838</td>\n",
       "      <td>354</td>\n",
       "      <td>N</td>\n",
       "      <td>E</td>\n",
       "      <td>200</td>\n",
       "      <td>11</td>\n",
       "      <td>3</td>\n",
       "      <td>500.0</td>\n",
       "      <td>N</td>\n",
       "    </tr>\n",
       "    <tr>\n",
       "      <th>4</th>\n",
       "      <td>321</td>\n",
       "      <td>87</td>\n",
       "      <td>10</td>\n",
       "      <td>39</td>\n",
       "      <td>42</td>\n",
       "      <td>30</td>\n",
       "      <td>2</td>\n",
       "      <td>396</td>\n",
       "      <td>101</td>\n",
       "      <td>12</td>\n",
       "      <td>48</td>\n",
       "      <td>46</td>\n",
       "      <td>33</td>\n",
       "      <td>N</td>\n",
       "      <td>E</td>\n",
       "      <td>805</td>\n",
       "      <td>40</td>\n",
       "      <td>4</td>\n",
       "      <td>91.5</td>\n",
       "      <td>N</td>\n",
       "    </tr>\n",
       "    <tr>\n",
       "      <th>...</th>\n",
       "      <td>...</td>\n",
       "      <td>...</td>\n",
       "      <td>...</td>\n",
       "      <td>...</td>\n",
       "      <td>...</td>\n",
       "      <td>...</td>\n",
       "      <td>...</td>\n",
       "      <td>...</td>\n",
       "      <td>...</td>\n",
       "      <td>...</td>\n",
       "      <td>...</td>\n",
       "      <td>...</td>\n",
       "      <td>...</td>\n",
       "      <td>...</td>\n",
       "      <td>...</td>\n",
       "      <td>...</td>\n",
       "      <td>...</td>\n",
       "      <td>...</td>\n",
       "      <td>...</td>\n",
       "      <td>...</td>\n",
       "    </tr>\n",
       "    <tr>\n",
       "      <th>317</th>\n",
       "      <td>497</td>\n",
       "      <td>127</td>\n",
       "      <td>7</td>\n",
       "      <td>65</td>\n",
       "      <td>48</td>\n",
       "      <td>37</td>\n",
       "      <td>5</td>\n",
       "      <td>2703</td>\n",
       "      <td>806</td>\n",
       "      <td>32</td>\n",
       "      <td>379</td>\n",
       "      <td>311</td>\n",
       "      <td>138</td>\n",
       "      <td>N</td>\n",
       "      <td>E</td>\n",
       "      <td>325</td>\n",
       "      <td>9</td>\n",
       "      <td>3</td>\n",
       "      <td>700.0</td>\n",
       "      <td>N</td>\n",
       "    </tr>\n",
       "    <tr>\n",
       "      <th>318</th>\n",
       "      <td>492</td>\n",
       "      <td>136</td>\n",
       "      <td>5</td>\n",
       "      <td>76</td>\n",
       "      <td>50</td>\n",
       "      <td>94</td>\n",
       "      <td>12</td>\n",
       "      <td>5511</td>\n",
       "      <td>1511</td>\n",
       "      <td>39</td>\n",
       "      <td>897</td>\n",
       "      <td>451</td>\n",
       "      <td>875</td>\n",
       "      <td>A</td>\n",
       "      <td>E</td>\n",
       "      <td>313</td>\n",
       "      <td>381</td>\n",
       "      <td>20</td>\n",
       "      <td>875.0</td>\n",
       "      <td>A</td>\n",
       "    </tr>\n",
       "    <tr>\n",
       "      <th>319</th>\n",
       "      <td>475</td>\n",
       "      <td>126</td>\n",
       "      <td>3</td>\n",
       "      <td>61</td>\n",
       "      <td>43</td>\n",
       "      <td>52</td>\n",
       "      <td>6</td>\n",
       "      <td>1700</td>\n",
       "      <td>433</td>\n",
       "      <td>7</td>\n",
       "      <td>217</td>\n",
       "      <td>93</td>\n",
       "      <td>146</td>\n",
       "      <td>A</td>\n",
       "      <td>W</td>\n",
       "      <td>37</td>\n",
       "      <td>113</td>\n",
       "      <td>7</td>\n",
       "      <td>385.0</td>\n",
       "      <td>A</td>\n",
       "    </tr>\n",
       "    <tr>\n",
       "      <th>320</th>\n",
       "      <td>573</td>\n",
       "      <td>144</td>\n",
       "      <td>9</td>\n",
       "      <td>85</td>\n",
       "      <td>60</td>\n",
       "      <td>78</td>\n",
       "      <td>8</td>\n",
       "      <td>3198</td>\n",
       "      <td>857</td>\n",
       "      <td>97</td>\n",
       "      <td>470</td>\n",
       "      <td>420</td>\n",
       "      <td>332</td>\n",
       "      <td>A</td>\n",
       "      <td>E</td>\n",
       "      <td>1314</td>\n",
       "      <td>131</td>\n",
       "      <td>12</td>\n",
       "      <td>960.0</td>\n",
       "      <td>A</td>\n",
       "    </tr>\n",
       "    <tr>\n",
       "      <th>321</th>\n",
       "      <td>631</td>\n",
       "      <td>170</td>\n",
       "      <td>9</td>\n",
       "      <td>77</td>\n",
       "      <td>44</td>\n",
       "      <td>31</td>\n",
       "      <td>11</td>\n",
       "      <td>4908</td>\n",
       "      <td>1457</td>\n",
       "      <td>30</td>\n",
       "      <td>775</td>\n",
       "      <td>357</td>\n",
       "      <td>249</td>\n",
       "      <td>A</td>\n",
       "      <td>W</td>\n",
       "      <td>408</td>\n",
       "      <td>4</td>\n",
       "      <td>3</td>\n",
       "      <td>1000.0</td>\n",
       "      <td>A</td>\n",
       "    </tr>\n",
       "  </tbody>\n",
       "</table>\n",
       "<p>322 rows × 20 columns</p>\n",
       "</div>"
      ]
     },
     "execution_count": 1,
     "metadata": {},
     "output_type": "execute_result"
    }
   ],
   "execution_count": 1
  },
  {
   "metadata": {
    "ExecuteTime": {
     "end_time": "2024-05-09T20:23:36.511932Z",
     "start_time": "2024-05-09T20:23:36.497185Z"
    }
   },
   "cell_type": "code",
   "source": [
    "dataset = dataset[['League', 'Division', 'CAtBat', 'CHits', 'CHmRun', 'CRBI', 'Assists', 'PutOuts', 'CWalks', 'Salary']]\n",
    "dataset"
   ],
   "id": "ae3fc5a3fea2194",
   "outputs": [
    {
     "data": {
      "text/plain": [
       "    League Division  CAtBat  CHits  CHmRun  CRBI  Assists  PutOuts  CWalks  \\\n",
       "0        A        E     293     66       1    29       33      446      14   \n",
       "1        N        W    3449    835      69   414       43      632     375   \n",
       "2        A        W    1624    457      63   266       82      880     263   \n",
       "3        N        E    5628   1575     225   838       11      200     354   \n",
       "4        N        E     396    101      12    46       40      805      33   \n",
       "..     ...      ...     ...    ...     ...   ...      ...      ...     ...   \n",
       "317      N        E    2703    806      32   311        9      325     138   \n",
       "318      A        E    5511   1511      39   451      381      313     875   \n",
       "319      A        W    1700    433       7    93      113       37     146   \n",
       "320      A        E    3198    857      97   420      131     1314     332   \n",
       "321      A        W    4908   1457      30   357        4      408     249   \n",
       "\n",
       "     Salary  \n",
       "0       NaN  \n",
       "1     475.0  \n",
       "2     480.0  \n",
       "3     500.0  \n",
       "4      91.5  \n",
       "..      ...  \n",
       "317   700.0  \n",
       "318   875.0  \n",
       "319   385.0  \n",
       "320   960.0  \n",
       "321  1000.0  \n",
       "\n",
       "[322 rows x 10 columns]"
      ],
      "text/html": [
       "<div>\n",
       "<style scoped>\n",
       "    .dataframe tbody tr th:only-of-type {\n",
       "        vertical-align: middle;\n",
       "    }\n",
       "\n",
       "    .dataframe tbody tr th {\n",
       "        vertical-align: top;\n",
       "    }\n",
       "\n",
       "    .dataframe thead th {\n",
       "        text-align: right;\n",
       "    }\n",
       "</style>\n",
       "<table border=\"1\" class=\"dataframe\">\n",
       "  <thead>\n",
       "    <tr style=\"text-align: right;\">\n",
       "      <th></th>\n",
       "      <th>League</th>\n",
       "      <th>Division</th>\n",
       "      <th>CAtBat</th>\n",
       "      <th>CHits</th>\n",
       "      <th>CHmRun</th>\n",
       "      <th>CRBI</th>\n",
       "      <th>Assists</th>\n",
       "      <th>PutOuts</th>\n",
       "      <th>CWalks</th>\n",
       "      <th>Salary</th>\n",
       "    </tr>\n",
       "  </thead>\n",
       "  <tbody>\n",
       "    <tr>\n",
       "      <th>0</th>\n",
       "      <td>A</td>\n",
       "      <td>E</td>\n",
       "      <td>293</td>\n",
       "      <td>66</td>\n",
       "      <td>1</td>\n",
       "      <td>29</td>\n",
       "      <td>33</td>\n",
       "      <td>446</td>\n",
       "      <td>14</td>\n",
       "      <td>NaN</td>\n",
       "    </tr>\n",
       "    <tr>\n",
       "      <th>1</th>\n",
       "      <td>N</td>\n",
       "      <td>W</td>\n",
       "      <td>3449</td>\n",
       "      <td>835</td>\n",
       "      <td>69</td>\n",
       "      <td>414</td>\n",
       "      <td>43</td>\n",
       "      <td>632</td>\n",
       "      <td>375</td>\n",
       "      <td>475.0</td>\n",
       "    </tr>\n",
       "    <tr>\n",
       "      <th>2</th>\n",
       "      <td>A</td>\n",
       "      <td>W</td>\n",
       "      <td>1624</td>\n",
       "      <td>457</td>\n",
       "      <td>63</td>\n",
       "      <td>266</td>\n",
       "      <td>82</td>\n",
       "      <td>880</td>\n",
       "      <td>263</td>\n",
       "      <td>480.0</td>\n",
       "    </tr>\n",
       "    <tr>\n",
       "      <th>3</th>\n",
       "      <td>N</td>\n",
       "      <td>E</td>\n",
       "      <td>5628</td>\n",
       "      <td>1575</td>\n",
       "      <td>225</td>\n",
       "      <td>838</td>\n",
       "      <td>11</td>\n",
       "      <td>200</td>\n",
       "      <td>354</td>\n",
       "      <td>500.0</td>\n",
       "    </tr>\n",
       "    <tr>\n",
       "      <th>4</th>\n",
       "      <td>N</td>\n",
       "      <td>E</td>\n",
       "      <td>396</td>\n",
       "      <td>101</td>\n",
       "      <td>12</td>\n",
       "      <td>46</td>\n",
       "      <td>40</td>\n",
       "      <td>805</td>\n",
       "      <td>33</td>\n",
       "      <td>91.5</td>\n",
       "    </tr>\n",
       "    <tr>\n",
       "      <th>...</th>\n",
       "      <td>...</td>\n",
       "      <td>...</td>\n",
       "      <td>...</td>\n",
       "      <td>...</td>\n",
       "      <td>...</td>\n",
       "      <td>...</td>\n",
       "      <td>...</td>\n",
       "      <td>...</td>\n",
       "      <td>...</td>\n",
       "      <td>...</td>\n",
       "    </tr>\n",
       "    <tr>\n",
       "      <th>317</th>\n",
       "      <td>N</td>\n",
       "      <td>E</td>\n",
       "      <td>2703</td>\n",
       "      <td>806</td>\n",
       "      <td>32</td>\n",
       "      <td>311</td>\n",
       "      <td>9</td>\n",
       "      <td>325</td>\n",
       "      <td>138</td>\n",
       "      <td>700.0</td>\n",
       "    </tr>\n",
       "    <tr>\n",
       "      <th>318</th>\n",
       "      <td>A</td>\n",
       "      <td>E</td>\n",
       "      <td>5511</td>\n",
       "      <td>1511</td>\n",
       "      <td>39</td>\n",
       "      <td>451</td>\n",
       "      <td>381</td>\n",
       "      <td>313</td>\n",
       "      <td>875</td>\n",
       "      <td>875.0</td>\n",
       "    </tr>\n",
       "    <tr>\n",
       "      <th>319</th>\n",
       "      <td>A</td>\n",
       "      <td>W</td>\n",
       "      <td>1700</td>\n",
       "      <td>433</td>\n",
       "      <td>7</td>\n",
       "      <td>93</td>\n",
       "      <td>113</td>\n",
       "      <td>37</td>\n",
       "      <td>146</td>\n",
       "      <td>385.0</td>\n",
       "    </tr>\n",
       "    <tr>\n",
       "      <th>320</th>\n",
       "      <td>A</td>\n",
       "      <td>E</td>\n",
       "      <td>3198</td>\n",
       "      <td>857</td>\n",
       "      <td>97</td>\n",
       "      <td>420</td>\n",
       "      <td>131</td>\n",
       "      <td>1314</td>\n",
       "      <td>332</td>\n",
       "      <td>960.0</td>\n",
       "    </tr>\n",
       "    <tr>\n",
       "      <th>321</th>\n",
       "      <td>A</td>\n",
       "      <td>W</td>\n",
       "      <td>4908</td>\n",
       "      <td>1457</td>\n",
       "      <td>30</td>\n",
       "      <td>357</td>\n",
       "      <td>4</td>\n",
       "      <td>408</td>\n",
       "      <td>249</td>\n",
       "      <td>1000.0</td>\n",
       "    </tr>\n",
       "  </tbody>\n",
       "</table>\n",
       "<p>322 rows × 10 columns</p>\n",
       "</div>"
      ]
     },
     "execution_count": 2,
     "metadata": {},
     "output_type": "execute_result"
    }
   ],
   "execution_count": 2
  },
  {
   "metadata": {
    "ExecuteTime": {
     "end_time": "2024-05-09T20:23:36.521069Z",
     "start_time": "2024-05-09T20:23:36.513890Z"
    }
   },
   "cell_type": "code",
   "source": "dataset = dataset.dropna()",
   "id": "991792843d8fd127",
   "outputs": [],
   "execution_count": 3
  },
  {
   "metadata": {
    "ExecuteTime": {
     "end_time": "2024-05-09T20:23:36.536476Z",
     "start_time": "2024-05-09T20:23:36.522051Z"
    }
   },
   "cell_type": "code",
   "source": [
    "dataset = dataset.to_numpy()\n",
    "dataset"
   ],
   "id": "ea18628295036a3",
   "outputs": [
    {
     "data": {
      "text/plain": [
       "array([['N', 'W', 3449, ..., 632, 375, 475.0],\n",
       "       ['A', 'W', 1624, ..., 880, 263, 480.0],\n",
       "       ['N', 'E', 5628, ..., 200, 354, 500.0],\n",
       "       ...,\n",
       "       ['A', 'W', 1700, ..., 37, 146, 385.0],\n",
       "       ['A', 'E', 3198, ..., 1314, 332, 960.0],\n",
       "       ['A', 'W', 4908, ..., 408, 249, 1000.0]], dtype=object)"
      ]
     },
     "execution_count": 4,
     "metadata": {},
     "output_type": "execute_result"
    }
   ],
   "execution_count": 4
  },
  {
   "metadata": {
    "ExecuteTime": {
     "end_time": "2024-05-09T20:23:36.583723Z",
     "start_time": "2024-05-09T20:23:36.540389Z"
    }
   },
   "cell_type": "code",
   "source": "print(dataset.shape)",
   "id": "88a2ec1e7e179f96",
   "outputs": [
    {
     "name": "stdout",
     "output_type": "stream",
     "text": [
      "(263, 10)\n"
     ]
    }
   ],
   "execution_count": 5
  },
  {
   "metadata": {
    "ExecuteTime": {
     "end_time": "2024-05-09T20:23:36.592355Z",
     "start_time": "2024-05-09T20:23:36.585683Z"
    }
   },
   "cell_type": "code",
   "source": [
    "x = dataset[:, :-1]\n",
    "y = dataset[:, -1]\n",
    "\n",
    "print(x.shape, y.shape)"
   ],
   "id": "7e093186dc324c3",
   "outputs": [
    {
     "name": "stdout",
     "output_type": "stream",
     "text": [
      "(263, 9) (263,)\n"
     ]
    }
   ],
   "execution_count": 6
  },
  {
   "metadata": {
    "ExecuteTime": {
     "end_time": "2024-05-09T20:23:38.323526Z",
     "start_time": "2024-05-09T20:23:36.594314Z"
    }
   },
   "cell_type": "code",
   "source": [
    "from sklearn.preprocessing import LabelEncoder\n",
    "dataset[:, 0] = LabelEncoder().fit_transform(dataset[:, 0])\n",
    "dataset[:, 1] = LabelEncoder().fit_transform(dataset[:, 1])\n",
    "dataset"
   ],
   "id": "62d6989633a66c47",
   "outputs": [
    {
     "data": {
      "text/plain": [
       "array([[1, 1, 3449, ..., 632, 375, 475.0],\n",
       "       [0, 1, 1624, ..., 880, 263, 480.0],\n",
       "       [1, 0, 5628, ..., 200, 354, 500.0],\n",
       "       ...,\n",
       "       [0, 1, 1700, ..., 37, 146, 385.0],\n",
       "       [0, 0, 3198, ..., 1314, 332, 960.0],\n",
       "       [0, 1, 4908, ..., 408, 249, 1000.0]], dtype=object)"
      ]
     },
     "execution_count": 7,
     "metadata": {},
     "output_type": "execute_result"
    }
   ],
   "execution_count": 7
  },
  {
   "metadata": {
    "ExecuteTime": {
     "end_time": "2024-05-09T20:23:38.344857Z",
     "start_time": "2024-05-09T20:23:38.324513Z"
    }
   },
   "cell_type": "code",
   "source": [
    "new_dataset = pd.DataFrame(dataset)\n",
    "new_dataset.iloc[:, 2:].replace(0, np.nan, inplace=True)\n",
    "new_dataset.dropna(inplace=True)\n",
    "new_dataset"
   ],
   "id": "8b58a30dbb4ea95",
   "outputs": [
    {
     "name": "stderr",
     "output_type": "stream",
     "text": [
      "C:\\Users\\atila\\AppData\\Local\\Temp\\ipykernel_2144\\2046125104.py:2: FutureWarning: A value is trying to be set on a copy of a DataFrame or Series through chained assignment using an inplace method.\n",
      "The behavior will change in pandas 3.0. This inplace method will never work because the intermediate object on which we are setting values always behaves as a copy.\n",
      "\n",
      "For example, when doing 'df[col].method(value, inplace=True)', try using 'df.method({col: value}, inplace=True)' or df[col] = df[col].method(value) instead, to perform the operation inplace on the original object.\n",
      "\n",
      "\n",
      "  new_dataset.iloc[:, 2:].replace(0, np.nan, inplace=True)\n",
      "C:\\Users\\atila\\AppData\\Local\\Temp\\ipykernel_2144\\2046125104.py:2: FutureWarning: Downcasting behavior in `replace` is deprecated and will be removed in a future version. To retain the old behavior, explicitly call `result.infer_objects(copy=False)`. To opt-in to the future behavior, set `pd.set_option('future.no_silent_downcasting', True)`\n",
      "  new_dataset.iloc[:, 2:].replace(0, np.nan, inplace=True)\n",
      "C:\\Users\\atila\\AppData\\Local\\Temp\\ipykernel_2144\\2046125104.py:2: SettingWithCopyWarning: \n",
      "A value is trying to be set on a copy of a slice from a DataFrame\n",
      "\n",
      "See the caveats in the documentation: https://pandas.pydata.org/pandas-docs/stable/user_guide/indexing.html#returning-a-view-versus-a-copy\n",
      "  new_dataset.iloc[:, 2:].replace(0, np.nan, inplace=True)\n"
     ]
    },
    {
     "data": {
      "text/plain": [
       "     0  1     2     3    4    5    6     7    8       9\n",
       "0    1  1  3449   835   69  414   43   632  375   475.0\n",
       "1    0  1  1624   457   63  266   82   880  263   480.0\n",
       "2    1  0  5628  1575  225  838   11   200  354   500.0\n",
       "3    1  0   396   101   12   46   40   805   33    91.5\n",
       "4    0  1  4408  1133   19  336  421   282  194   750.0\n",
       "..  .. ..   ...   ...  ...  ...  ...   ...  ...     ...\n",
       "258  1  0  2703   806   32  311    9   325  138   700.0\n",
       "259  0  0  5511  1511   39  451  381   313  875   875.0\n",
       "260  0  1  1700   433    7   93  113    37  146   385.0\n",
       "261  0  0  3198   857   97  420  131  1314  332   960.0\n",
       "262  0  1  4908  1457   30  357    4   408  249  1000.0\n",
       "\n",
       "[246 rows x 10 columns]"
      ],
      "text/html": [
       "<div>\n",
       "<style scoped>\n",
       "    .dataframe tbody tr th:only-of-type {\n",
       "        vertical-align: middle;\n",
       "    }\n",
       "\n",
       "    .dataframe tbody tr th {\n",
       "        vertical-align: top;\n",
       "    }\n",
       "\n",
       "    .dataframe thead th {\n",
       "        text-align: right;\n",
       "    }\n",
       "</style>\n",
       "<table border=\"1\" class=\"dataframe\">\n",
       "  <thead>\n",
       "    <tr style=\"text-align: right;\">\n",
       "      <th></th>\n",
       "      <th>0</th>\n",
       "      <th>1</th>\n",
       "      <th>2</th>\n",
       "      <th>3</th>\n",
       "      <th>4</th>\n",
       "      <th>5</th>\n",
       "      <th>6</th>\n",
       "      <th>7</th>\n",
       "      <th>8</th>\n",
       "      <th>9</th>\n",
       "    </tr>\n",
       "  </thead>\n",
       "  <tbody>\n",
       "    <tr>\n",
       "      <th>0</th>\n",
       "      <td>1</td>\n",
       "      <td>1</td>\n",
       "      <td>3449</td>\n",
       "      <td>835</td>\n",
       "      <td>69</td>\n",
       "      <td>414</td>\n",
       "      <td>43</td>\n",
       "      <td>632</td>\n",
       "      <td>375</td>\n",
       "      <td>475.0</td>\n",
       "    </tr>\n",
       "    <tr>\n",
       "      <th>1</th>\n",
       "      <td>0</td>\n",
       "      <td>1</td>\n",
       "      <td>1624</td>\n",
       "      <td>457</td>\n",
       "      <td>63</td>\n",
       "      <td>266</td>\n",
       "      <td>82</td>\n",
       "      <td>880</td>\n",
       "      <td>263</td>\n",
       "      <td>480.0</td>\n",
       "    </tr>\n",
       "    <tr>\n",
       "      <th>2</th>\n",
       "      <td>1</td>\n",
       "      <td>0</td>\n",
       "      <td>5628</td>\n",
       "      <td>1575</td>\n",
       "      <td>225</td>\n",
       "      <td>838</td>\n",
       "      <td>11</td>\n",
       "      <td>200</td>\n",
       "      <td>354</td>\n",
       "      <td>500.0</td>\n",
       "    </tr>\n",
       "    <tr>\n",
       "      <th>3</th>\n",
       "      <td>1</td>\n",
       "      <td>0</td>\n",
       "      <td>396</td>\n",
       "      <td>101</td>\n",
       "      <td>12</td>\n",
       "      <td>46</td>\n",
       "      <td>40</td>\n",
       "      <td>805</td>\n",
       "      <td>33</td>\n",
       "      <td>91.5</td>\n",
       "    </tr>\n",
       "    <tr>\n",
       "      <th>4</th>\n",
       "      <td>0</td>\n",
       "      <td>1</td>\n",
       "      <td>4408</td>\n",
       "      <td>1133</td>\n",
       "      <td>19</td>\n",
       "      <td>336</td>\n",
       "      <td>421</td>\n",
       "      <td>282</td>\n",
       "      <td>194</td>\n",
       "      <td>750.0</td>\n",
       "    </tr>\n",
       "    <tr>\n",
       "      <th>...</th>\n",
       "      <td>...</td>\n",
       "      <td>...</td>\n",
       "      <td>...</td>\n",
       "      <td>...</td>\n",
       "      <td>...</td>\n",
       "      <td>...</td>\n",
       "      <td>...</td>\n",
       "      <td>...</td>\n",
       "      <td>...</td>\n",
       "      <td>...</td>\n",
       "    </tr>\n",
       "    <tr>\n",
       "      <th>258</th>\n",
       "      <td>1</td>\n",
       "      <td>0</td>\n",
       "      <td>2703</td>\n",
       "      <td>806</td>\n",
       "      <td>32</td>\n",
       "      <td>311</td>\n",
       "      <td>9</td>\n",
       "      <td>325</td>\n",
       "      <td>138</td>\n",
       "      <td>700.0</td>\n",
       "    </tr>\n",
       "    <tr>\n",
       "      <th>259</th>\n",
       "      <td>0</td>\n",
       "      <td>0</td>\n",
       "      <td>5511</td>\n",
       "      <td>1511</td>\n",
       "      <td>39</td>\n",
       "      <td>451</td>\n",
       "      <td>381</td>\n",
       "      <td>313</td>\n",
       "      <td>875</td>\n",
       "      <td>875.0</td>\n",
       "    </tr>\n",
       "    <tr>\n",
       "      <th>260</th>\n",
       "      <td>0</td>\n",
       "      <td>1</td>\n",
       "      <td>1700</td>\n",
       "      <td>433</td>\n",
       "      <td>7</td>\n",
       "      <td>93</td>\n",
       "      <td>113</td>\n",
       "      <td>37</td>\n",
       "      <td>146</td>\n",
       "      <td>385.0</td>\n",
       "    </tr>\n",
       "    <tr>\n",
       "      <th>261</th>\n",
       "      <td>0</td>\n",
       "      <td>0</td>\n",
       "      <td>3198</td>\n",
       "      <td>857</td>\n",
       "      <td>97</td>\n",
       "      <td>420</td>\n",
       "      <td>131</td>\n",
       "      <td>1314</td>\n",
       "      <td>332</td>\n",
       "      <td>960.0</td>\n",
       "    </tr>\n",
       "    <tr>\n",
       "      <th>262</th>\n",
       "      <td>0</td>\n",
       "      <td>1</td>\n",
       "      <td>4908</td>\n",
       "      <td>1457</td>\n",
       "      <td>30</td>\n",
       "      <td>357</td>\n",
       "      <td>4</td>\n",
       "      <td>408</td>\n",
       "      <td>249</td>\n",
       "      <td>1000.0</td>\n",
       "    </tr>\n",
       "  </tbody>\n",
       "</table>\n",
       "<p>246 rows × 10 columns</p>\n",
       "</div>"
      ]
     },
     "execution_count": 8,
     "metadata": {},
     "output_type": "execute_result"
    }
   ],
   "execution_count": 8
  },
  {
   "metadata": {
    "ExecuteTime": {
     "end_time": "2024-05-09T20:23:38.352068Z",
     "start_time": "2024-05-09T20:23:38.346818Z"
    }
   },
   "cell_type": "code",
   "source": [
    "dataset = new_dataset.to_numpy()\n",
    "print(dataset.shape)"
   ],
   "id": "d66ae337f2bbd34e",
   "outputs": [
    {
     "name": "stdout",
     "output_type": "stream",
     "text": [
      "(246, 10)\n"
     ]
    }
   ],
   "execution_count": 9
  },
  {
   "metadata": {
    "ExecuteTime": {
     "end_time": "2024-05-09T20:23:38.359621Z",
     "start_time": "2024-05-09T20:23:38.353054Z"
    }
   },
   "cell_type": "code",
   "source": [
    "x = dataset[:, :-1]\n",
    "y = dataset[:, -1]\n",
    "\n",
    "print(x.shape, y.shape)"
   ],
   "id": "62082375325c7a4d",
   "outputs": [
    {
     "name": "stdout",
     "output_type": "stream",
     "text": [
      "(246, 9) (246,)\n"
     ]
    }
   ],
   "execution_count": 10
  },
  {
   "metadata": {
    "ExecuteTime": {
     "end_time": "2024-05-09T20:23:38.684180Z",
     "start_time": "2024-05-09T20:23:38.360605Z"
    }
   },
   "cell_type": "code",
   "source": [
    "from sklearn.neighbors import LocalOutlierFactor\n",
    "\n",
    "lof = LocalOutlierFactor(n_neighbors=20, contamination=0.1)\n",
    "predictions = lof.fit_predict(x[:, 1:])\n",
    "outliers = np.where(predictions == -1)[0]\n",
    "data_new = x[~np.isin(np.arange(len(x)), outliers), :]\n",
    "y = y[~np.isin(np.arange(len(y)), outliers)]\n",
    "x = data_new\n",
    "x"
   ],
   "id": "e9cc2ccb9125a34a",
   "outputs": [
    {
     "data": {
      "text/plain": [
       "array([[1, 1, 3449, ..., 43, 632, 375],\n",
       "       [1, 0, 5628, ..., 11, 200, 354],\n",
       "       [0, 1, 4408, ..., 421, 282, 194],\n",
       "       ...,\n",
       "       [0, 0, 5511, ..., 381, 313, 875],\n",
       "       [0, 1, 1700, ..., 113, 37, 146],\n",
       "       [0, 1, 4908, ..., 4, 408, 249]], dtype=object)"
      ]
     },
     "execution_count": 11,
     "metadata": {},
     "output_type": "execute_result"
    }
   ],
   "execution_count": 11
  },
  {
   "metadata": {
    "ExecuteTime": {
     "end_time": "2024-05-09T20:23:38.693978Z",
     "start_time": "2024-05-09T20:23:38.685164Z"
    }
   },
   "cell_type": "code",
   "source": "x.shape",
   "id": "45622bb1d8e13dc4",
   "outputs": [
    {
     "data": {
      "text/plain": [
       "(221, 9)"
      ]
     },
     "execution_count": 12,
     "metadata": {},
     "output_type": "execute_result"
    }
   ],
   "execution_count": 12
  },
  {
   "metadata": {
    "ExecuteTime": {
     "end_time": "2024-05-09T20:23:40.648535Z",
     "start_time": "2024-05-09T20:23:38.695938Z"
    }
   },
   "cell_type": "code",
   "source": [
    "import matplotlib.pyplot as plt\n",
    "\n",
    "n_cols = x.shape[1]\n",
    "for i in range(1, n_cols):\n",
    "    # ستون فعلی را استخراج کنید\n",
    "    column = x[:, i]\n",
    "\n",
    "    # رسم هیستوگرام\n",
    "    plt.hist(column)\n",
    "    plt.title(f\"hist {i + 1}\")\n",
    "    plt.xlabel(\"Value\")\n",
    "    plt.ylabel(\"Times\")\n",
    "    plt.show()"
   ],
   "id": "aafdb7956dea1cef",
   "outputs": [
    {
     "data": {
      "text/plain": [
       "<Figure size 640x480 with 1 Axes>"
      ],
      "image/png": "[encoded data removed]"
     },
     "metadata": {},
     "output_type": "display_data"
    },
    {
     "data": {
      "text/plain": [
       "<Figure size 640x480 with 1 Axes>"
      ],
      "image/png": "[encoded data removed]"
     },
     "metadata": {},
     "output_type": "display_data"
    },
    {
     "data": {
      "text/plain": [
       "<Figure size 640x480 with 1 Axes>"
      ],
      "image/png": "[encoded data removed]"
     },
     "metadata": {},
     "output_type": "display_data"
    },
    {
     "data": {
      "text/plain": [
       "<Figure size 640x480 with 1 Axes>"
      ],
      "image/png": "[encoded data removed]"
     },
     "metadata": {},
     "output_type": "display_data"
    },
    {
     "data": {
      "text/plain": [
       "<Figure size 640x480 with 1 Axes>"
      ],
      "image/png": "[encoded data removed]"
     },
     "metadata": {},
     "output_type": "display_data"
    },
    {
     "data": {
      "text/plain": [
       "<Figure size 640x480 with 1 Axes>"
      ],
      "image/png": "[encoded data removed]"
     },
     "metadata": {},
     "output_type": "display_data"
    },
    {
     "data": {
      "text/plain": [
       "<Figure size 640x480 with 1 Axes>"
      ],
      "image/png": "[encoded data removed]"
     },
     "metadata": {},
     "output_type": "display_data"
    },
    {
     "data": {
      "text/plain": [
       "<Figure size 640x480 with 1 Axes>"
      ],
      "image/png": "[encoded data removed]"
     },
     "metadata": {},
     "output_type": "display_data"
    }
   ],
   "execution_count": 13
  },
  {
   "metadata": {
    "ExecuteTime": {
     "end_time": "2024-05-09T20:23:40.660128Z",
     "start_time": "2024-05-09T20:23:40.652446Z"
    }
   },
   "cell_type": "code",
   "source": [
    "from sklearn.model_selection import train_test_split\n",
    "\n",
    "x_train, x_test, y_train, y_test = train_test_split(x, y, test_size=0.2, random_state=7)\n",
    "\n"
   ],
   "id": "a0a499e92d388bdb",
   "outputs": [],
   "execution_count": 14
  },
  {
   "metadata": {
    "ExecuteTime": {
     "end_time": "2024-05-09T20:23:40.667723Z",
     "start_time": "2024-05-09T20:23:40.661109Z"
    }
   },
   "cell_type": "code",
   "source": "y_train, y_test = y_train.astype(int), y_test.astype(int)",
   "id": "7ae792000ecc794d",
   "outputs": [],
   "execution_count": 15
  },
  {
   "metadata": {
    "ExecuteTime": {
     "end_time": "2024-05-09T20:24:45.998971Z",
     "start_time": "2024-05-09T20:23:40.670662Z"
    }
   },
   "cell_type": "code",
   "source": [
    "from sklearn.preprocessing import StandardScaler, MinMaxScaler, PowerTransformer, RobustScaler\n",
    "from sklearn.pipeline import Pipeline\n",
    "from sklearn.model_selection import GridSearchCV, RepeatedStratifiedKFold\n",
    "\n",
    "from sklearn.tree import DecisionTreeRegressor\n",
    "\n",
    "standard_scaler = StandardScaler()\n",
    "min_max_scaler = MinMaxScaler()\n",
    "power_transform = PowerTransformer()\n",
    "robust_scaler = RobustScaler()\n",
    "model = DecisionTreeRegressor(random_state=7)\n",
    "\n",
    "pipline = Pipeline(\n",
    "    steps=[\n",
    "        ('power', power_transform),\n",
    "        # ('robust', robust_scaler),\n",
    "        # ('minmax', min_max_scaler),\n",
    "        # ('standard', standard_scaler),\n",
    "        ('model', model)\n",
    "    ]\n",
    ")\n",
    "\n",
    "grid_params = {\n",
    "    # 'power__method': ['yeo-johnson', 'box-cox'],\n",
    "    'model__max_depth': [2,4,6,8,10,12,14,16,18,20],\n",
    "    'model__min_samples_leaf': [1,2,3,4,5,6,7,8,9,10],\n",
    "    'model__criterion': ['squared_error', 'absolute_error', 'friedman_mse', 'poisson'],\n",
    "    'model__random_state': [0,4, 7, 11, 15, 36, 47]\n",
    "}\n",
    "\n",
    "grid_search = GridSearchCV(\n",
    "    pipline,\n",
    "    grid_params,\n",
    "    cv=5,\n",
    "    n_jobs=30\n",
    ")\n",
    "\n",
    "grid_search.fit(x_train, y_train)\n",
    "\n",
    "print(\n",
    "    f\"Best Params: {grid_search.best_params_}\\n\",\n",
    "    grid_search.best_estimator_,\n",
    "    f\"\\nbest Score: {grid_search.score(x_test, y_test)}\"\n",
    ")\n"
   ],
   "id": "4c212c5fd6e0a80f",
   "outputs": [
    {
     "name": "stdout",
     "output_type": "stream",
     "text": [
      "Best Params: {'model__criterion': 'absolute_error', 'model__max_depth': 2, 'model__min_samples_leaf': 9, 'model__random_state': 0}\n",
      " Pipeline(steps=[('power', PowerTransformer()),\n",
      "                ('model',\n",
      "                 DecisionTreeRegressor(criterion='absolute_error', max_depth=2,\n",
      "                                       min_samples_leaf=9, random_state=0))]) \n",
      "best Score: 0.3911038867203439\n"
     ]
    }
   ],
   "execution_count": 16
  },
  {
   "metadata": {
    "ExecuteTime": {
     "end_time": "2024-05-09T20:33:09.653381Z",
     "start_time": "2024-05-09T20:24:46.000933Z"
    }
   },
   "cell_type": "code",
   "source": [
    "from sklearn.preprocessing import StandardScaler, MinMaxScaler, PowerTransformer, RobustScaler\n",
    "from sklearn.pipeline import Pipeline\n",
    "from sklearn.model_selection import GridSearchCV, RepeatedStratifiedKFold\n",
    "\n",
    "from sklearn.ensemble import RandomForestRegressor\n",
    "\n",
    "standard_scaler = StandardScaler()\n",
    "min_max_scaler = MinMaxScaler()\n",
    "power_transform = PowerTransformer()\n",
    "robust_scaler = RobustScaler()\n",
    "model = RandomForestRegressor(random_state=7)\n",
    "\n",
    "pipline = Pipeline(\n",
    "    steps=[\n",
    "        ('power', power_transform),\n",
    "        # ('robust', robust_scaler),\n",
    "        # ('minmax', min_max_scaler),\n",
    "        # ('standard', standard_scaler),\n",
    "        ('model', model)\n",
    "    ]\n",
    ")\n",
    "\n",
    "grid_params = {\n",
    "    # 'power__method': ['yeo-johnson', 'box-cox'],\n",
    "    'model__max_depth': [2,4,6,8,10,12,14,16,18,20],\n",
    "    'model__min_samples_leaf': [1,2,3,4,5,6,7,8,9,10],\n",
    "    'model__criterion': ['friedman_mse', 'poisson', 'absolute_error', 'squared_error'],\n",
    "    'model__random_state': [0,4, 7, 11, 15, 36, 47]\n",
    "}\n",
    "\n",
    "grid_search = GridSearchCV(\n",
    "    pipline,\n",
    "    grid_params,\n",
    "    cv=5,\n",
    "    n_jobs=-1\n",
    ")\n",
    "\n",
    "grid_search.fit(x_train, y_train)\n",
    "\n",
    "print(\n",
    "    f\"Best Params: {grid_search.best_params_}\\n\",\n",
    "    grid_search.best_estimator_,\n",
    "    f\"\\nbest Score: {grid_search.score(x_test, y_test)}\"\n",
    ")"
   ],
   "id": "3fd3e4a39426799e",
   "outputs": [
    {
     "name": "stdout",
     "output_type": "stream",
     "text": [
      "Best Params: {'model__criterion': 'absolute_error', 'model__max_depth': 8, 'model__min_samples_leaf': 1, 'model__random_state': 11}\n",
      " Pipeline(steps=[('power', PowerTransformer()),\n",
      "                ('model',\n",
      "                 RandomForestRegressor(criterion='absolute_error', max_depth=8,\n",
      "                                       random_state=11))]) \n",
      "best Score: 0.45010687647184344\n"
     ]
    }
   ],
   "execution_count": 17
  },
  {
   "metadata": {
    "ExecuteTime": {
     "end_time": "2024-05-09T20:33:10.086020Z",
     "start_time": "2024-05-09T20:33:09.655340Z"
    }
   },
   "cell_type": "code",
   "source": [
    "from sklearn.preprocessing import StandardScaler, MinMaxScaler, PowerTransformer, RobustScaler\n",
    "from sklearn.pipeline import Pipeline\n",
    "from sklearn.model_selection import GridSearchCV, RepeatedStratifiedKFold\n",
    "\n",
    "from sklearn.linear_model import LogisticRegression\n",
    "\n",
    "standard_scaler = StandardScaler()\n",
    "min_max_scaler = MinMaxScaler()\n",
    "power_transform = PowerTransformer()\n",
    "robust_scaler = RobustScaler()\n",
    "model = LogisticRegression(random_state=7)\n",
    "\n",
    "pipline = Pipeline(\n",
    "    steps=[\n",
    "        ('power', power_transform),\n",
    "        # ('robust', robust_scaler),\n",
    "        # ('minmax', min_max_scaler),\n",
    "        # ('standard', standard_scaler),\n",
    "        ('model', model)\n",
    "    ]\n",
    ")\n",
    "\n",
    "grid_params = {\n",
    "    # 'power__method': ['yeo-johnson', 'box-cox'],\n",
    "    # 'model__penalty': ['l1', 'l2'],\n",
    "    'model__C': [0.001, 0.01, 0.1, 1, 10, 100],\n",
    "    # 'model__solver': ['liblinear', 'sag'],\n",
    "    # 'model__max_iter': [100, 1000, 10000],\n",
    "    # 'model__tol': [0.001, 0.0001, 0.00001]\n",
    "}\n",
    "\n",
    "grid_search = GridSearchCV(\n",
    "    pipline,\n",
    "    grid_params,\n",
    "    cv=5,\n",
    "    n_jobs=-1\n",
    ")\n",
    "\n",
    "grid_search.fit(x_train, y_train)\n",
    "\n",
    "print(\n",
    "    f\"Best Params: {grid_search.best_params_}\\n\",\n",
    "    grid_search.best_estimator_,\n",
    "    f\"\\nbest Score: {grid_search.score(x_test, y_test)}\"\n",
    ")\n"
   ],
   "id": "e41e85194d5c2d84",
   "outputs": [
    {
     "name": "stderr",
     "output_type": "stream",
     "text": [
      "C:\\Users\\atila\\AppData\\Local\\Programs\\Python\\Python311\\Lib\\site-packages\\sklearn\\model_selection\\_split.py:737: UserWarning: The least populated class in y has only 1 members, which is less than n_splits=5.\n",
      "  warnings.warn(\n"
     ]
    },
    {
     "name": "stdout",
     "output_type": "stream",
     "text": [
      "Best Params: {'model__C': 0.1}\n",
      " Pipeline(steps=[('power', PowerTransformer()),\n",
      "                ('model', LogisticRegression(C=0.1, random_state=7))]) \n",
      "best Score: 0.044444444444444446\n"
     ]
    }
   ],
   "execution_count": 18
  },
  {
   "metadata": {
    "ExecuteTime": {
     "end_time": "2024-05-09T20:41:14.376057Z",
     "start_time": "2024-05-09T20:41:14.297350Z"
    }
   },
   "cell_type": "code",
   "source": [
    "from sklearn.preprocessing import StandardScaler, MinMaxScaler, PowerTransformer, RobustScaler\n",
    "from sklearn.pipeline import Pipeline\n",
    "from sklearn.model_selection import GridSearchCV, RepeatedStratifiedKFold\n",
    "\n",
    "from sklearn.linear_model import LinearRegression\n",
    "\n",
    "\n",
    "standard_scaler = StandardScaler()\n",
    "min_max_scaler = MinMaxScaler()\n",
    "power_transform = PowerTransformer()\n",
    "robust_scaler = RobustScaler()\n",
    "model = LinearRegression()\n",
    "\n",
    "pipline = Pipeline(\n",
    "    steps=[\n",
    "        ('power', power_transform),\n",
    "        ('robust', robust_scaler),\n",
    "        # ('minmax', min_max_scaler),\n",
    "        # ('standard', standard_scaler),\n",
    "        ('model', model)\n",
    "    ]\n",
    ")\n",
    "\n",
    "grid_params = {\n",
    "    # 'power__method': ['yeo-johnson', 'box-cox'],\n",
    "\n",
    "}\n",
    "\n",
    "grid_search = GridSearchCV(\n",
    "    pipline,\n",
    "    grid_params,\n",
    "    cv=5,\n",
    "    n_jobs=-1\n",
    ")\n",
    "\n",
    "grid_search.fit(x_train, y_train)\n",
    "\n",
    "print(\n",
    "    f\"Best Params: {grid_search.best_params_}\\n\",\n",
    "    grid_search.best_estimator_,\n",
    "    f\"\\nbest Score: {grid_search.score(x_test, y_test)}\"\n",
    ")"
   ],
   "id": "6a039acdd266adb",
   "outputs": [
    {
     "name": "stdout",
     "output_type": "stream",
     "text": [
      "Best Params: {}\n",
      " Pipeline(steps=[('power', PowerTransformer()), ('robust', RobustScaler()),\n",
      "                ('model', LinearRegression())]) \n",
      "best Score: 0.561707266684857\n"
     ]
    }
   ],
   "execution_count": 23
  },
  {
   "metadata": {
    "ExecuteTime": {
     "end_time": "2024-05-09T20:38:06.073339Z",
     "start_time": "2024-05-09T20:38:04.813942Z"
    }
   },
   "cell_type": "code",
   "source": [
    "from sklearn.preprocessing import StandardScaler, MinMaxScaler, PowerTransformer, RobustScaler\n",
    "from sklearn.pipeline import Pipeline\n",
    "from sklearn.model_selection import GridSearchCV, RepeatedStratifiedKFold\n",
    "\n",
    "from sklearn.svm import SVR\n",
    "\n",
    "standard_scaler = StandardScaler()\n",
    "min_max_scaler = MinMaxScaler()\n",
    "power_transform = PowerTransformer()\n",
    "robust_scaler = RobustScaler()\n",
    "model = SVR()\n",
    "\n",
    "pipline = Pipeline(\n",
    "    steps=[\n",
    "        ('power', power_transform),\n",
    "        ('robust', robust_scaler),\n",
    "        # ('minmax', min_max_scaler),\n",
    "        # ('standard', standard_scaler),\n",
    "        ('model', model)\n",
    "    ]\n",
    ")\n",
    "\n",
    "grid_params = {\n",
    "    # 'power__method': ['yeo-johnson', 'box-cox'],\n",
    "    'model__C': [0.1, 1, 10],\n",
    "    'model__gamma': [0.01, 0.1, 1],\n",
    "    'model__kernel': ['linear', 'rbf', 'poly'],\n",
    "}\n",
    "\n",
    "grid_search = GridSearchCV(\n",
    "    pipline,\n",
    "    grid_params,\n",
    "    cv=5,\n",
    "    n_jobs=-1\n",
    ")\n",
    "\n",
    "grid_search.fit(x_train, y_train)\n",
    "\n",
    "print(\n",
    "    f\"Best Params: {grid_search.best_params_}\\n\",\n",
    "    grid_search.best_estimator_,\n",
    "    f\"\\nbest Score: {grid_search.score(x_test, y_test)}\"\n",
    ")"
   ],
   "id": "aac5100aeb401628",
   "outputs": [
    {
     "name": "stdout",
     "output_type": "stream",
     "text": [
      "Best Params: {'model__C': 10, 'model__gamma': 0.01, 'model__kernel': 'linear'}\n",
      " Pipeline(steps=[('power', PowerTransformer()), ('robust', RobustScaler()),\n",
      "                ('model', SVR(C=10, gamma=0.01, kernel='linear'))]) \n",
      "best Score: 0.47478138364535627\n"
     ]
    }
   ],
   "execution_count": 21
  }
 ],
 "metadata": {
  "kernelspec": {
   "display_name": "Python 3",
   "language": "python",
   "name": "python3"
  },
  "language_info": {
   "codemirror_mode": {
    "name": "ipython",
    "version": 2
   },
   "file_extension": ".py",
   "mimetype": "text/x-python",
   "name": "python",
   "nbconvert_exporter": "python",
   "pygments_lexer": "ipython2",
   "version": "2.7.6"
  }
 },
 "nbformat": 4,
 "nbformat_minor": 5
}
